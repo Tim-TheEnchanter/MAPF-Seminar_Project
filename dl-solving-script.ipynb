{
 "cells": [
  {
   "cell_type": "markdown",
   "metadata": {},
   "source": [
    "## Script for prioritized MAPF\n",
    "\n",
    "---\n"
   ]
  },
  {
   "cell_type": "code",
   "execution_count": 5,
   "metadata": {},
   "outputs": [],
   "source": [
    "import subprocess\n",
    "import sys\n",
    "import re\n",
    "import numpy as np\n",
    "\n",
    "import time\n",
    "start_time = time.time()"
   ]
  },
  {
   "cell_type": "markdown",
   "metadata": {},
   "source": [
    "These are the modules that are needed in order to succesfully execute the code below. **```subprocess```** is used in order to make the systemcalls that execute the solver and other management calls like *rm* and *cp*. **```re```** is a very important module that lets us search through the ```.lp```-files to determine robots and destination with the use of regular expressions (regex). Additionally it lets us ultimately convert the output plan into adequate input for further solving steps.\n",
    "\n",
    "---"
   ]
  },
  {
   "cell_type": "code",
   "execution_count": 6,
   "metadata": {
    "scrolled": false
   },
   "outputs": [
    {
     "data": {
      "text/plain": [
       "CompletedProcess(args=['conda', 'activate', 'asprin'], returncode=1)"
      ]
     },
     "execution_count": 6,
     "metadata": {},
     "output_type": "execute_result"
    }
   ],
   "source": [
    "target = sys.argv[1]\n",
    "dest   = sys.argv[2]\n",
    " \n",
    "subprocess.run([\"conda\", \"activate\", \"asprin\"])"
   ]
  },
  {
   "cell_type": "markdown",
   "metadata": {},
   "source": [
    "When calling the python-script the given argument will be the instance we want to be solved. It throws an exception if no target has been given.\n",
    "\n",
    "---"
   ]
  },
  {
   "cell_type": "code",
   "execution_count": 7,
   "metadata": {},
   "outputs": [],
   "source": [
    "non_base_lines   = re.compile(\"init\\(object\\(destination.*$\" )\n",
    "where_robots     = re.compile(\"init\\(object\\(robot,[0-9]\\), value\\(at,\")\n",
    "where_dests      = re.compile(\"init\\(object\\(destination,[0-9]\\), value\\(at,\")\n",
    "find_plans       = re.compile(\"occurs\\(object\\(robot,\")"
   ]
  },
  {
   "cell_type": "markdown",
   "metadata": {},
   "source": [
    "Here are the regex that are used further down to:\n",
    "* eliminate lines in the instance that are not required to model the environment. (i.e. robots, destinations, etc.)\n",
    "* find the robots initialization points (and identifiers).\n",
    "* find the destinations initialization points (and identifiers).\n",
    "* convert the plan format into an acceptable input format.\n",
    "---"
   ]
  },
  {
   "cell_type": "code",
   "execution_count": 8,
   "metadata": {},
   "outputs": [],
   "source": [
    "robot_idents     = []       # will save the identifiers for the robots\n",
    "robot_inits      = []       # will save the initialization points for the robots\n",
    "\n",
    "dest_idents      = []       # will save the identifiers for the destinations\n",
    "dest_inits       = []       # will save the initialization points for the destinations\n",
    "\n",
    "priority_scores  = []       # will save the priority scores that determine the ordering of the solving process."
   ]
  },
  {
   "cell_type": "markdown",
   "metadata": {},
   "source": [
    "Theese arrays will hold the lines that save the robots identifiers, ... (duh!). These are the ones that determine the order/priority with which the instance is solved.\n",
    "\n",
    "---"
   ]
  },
  {
   "cell_type": "code",
   "execution_count": 9,
   "metadata": {},
   "outputs": [],
   "source": [
    "target_instance  = open(target)                         # this will be target                \n",
    "temp_instance    = open(\"temp_instance.lp\", \"w+\")       # a new file \"temp_instance.lp\" will be created"
   ]
  },
  {
   "cell_type": "markdown",
   "metadata": {},
   "source": [
    "The ```temp_instance``` will iterate through the number of robots (and destinations) and will gather the respective plans as new inputs. Before the iteration of solving, this instance will represent a base instance that only describes the environment.\n",
    "\n",
    "---"
   ]
  },
  {
   "cell_type": "code",
   "execution_count": 150,
   "metadata": {},
   "outputs": [
    {
     "name": "stdout",
     "output_type": "stream",
     "text": [
      "['1', '2', '3']\n",
      "['init(object(robot,1), value(at,(7,3))).\\n', 'init(object(robot,2), value(at,(7,4))).\\n', 'init(object(robot,3), value(at,(7,5))).\\n']\n",
      "['1', '2', '3']\n",
      "['init(object(destination,1), value(at,(1,1))).\\n', 'init(object(destination,2), value(at,(5,5))).\\n', 'init(object(destination,3), value(at,(1,7))).\\n']\n"
     ]
    }
   ],
   "source": [
    "for line in target_instance.readlines():\n",
    "    \n",
    "    #begin# find robot identifiers and initial starting points #######\n",
    "                                                                    ##\n",
    "    for match in re.finditer(where_robots, line):                   ##\n",
    "        robot_inits.append(line)                                    ##\n",
    "        robot_idents.append(re.findall(r'\\d+', line)[0])            ##\n",
    "                                                                    ##\n",
    "    ##end## find robot identifiers and initial starting points #######\n",
    "    \n",
    "    #begin# find destination identifiers and initial position #######\n",
    "                                                                   ##\n",
    "    for match in re.finditer(where_dests, line):                   ##\n",
    "        dest_inits.append(line)                                    ##\n",
    "        dest_idents.append(re.findall(r'\\d+', line)[0])            ##\n",
    "                                                                   ##    \n",
    "    ##end## find destination identifiers and initial position #######\n",
    "    \n",
    "    #begin# build base instance (without robot or destination declarations) #######\n",
    "                                                                                 ##    \n",
    "    line = re.sub(non_base_lines, \"\", line)                                      ##\n",
    "    temp_instance.write(line)                                                    ##\n",
    "                                                                                 ##\n",
    "    ##end## build base instance (without robot or destination declarations) #######\n",
    "\n",
    "target_instance.close()\n",
    "temp_instance.close()\n",
    "\n",
    "'''\n",
    "print(robot_idents)\n",
    "print(robot_inits)\n",
    "print(dest_idents)\n",
    "print(dest_inits)\n",
    "'''"
   ]
  },
  {
   "cell_type": "markdown",
   "metadata": {},
   "source": [
    "This section uses some regex described above to find the robots and destinations identifiers and initial positions. In the end we delete all non-essential lines for describing the environment.\n",
    "\n",
    "---"
   ]
  },
  {
   "cell_type": "code",
   "execution_count": 151,
   "metadata": {},
   "outputs": [
    {
     "name": "stdout",
     "output_type": "stream",
     "text": [
      "7 3 1 1\n",
      "7 4 5 5\n",
      "7 5 1 7\n",
      "[8, 8, 3]\n",
      "['3', '1', '2']\n",
      "['3', '1', '2']\n",
      "['init(object(destination,3), value(at,(1,7))).\\n', 'init(object(destination,1), value(at,(1,1))).\\n', 'init(object(destination,2), value(at,(5,5))).\\n']\n"
     ]
    }
   ],
   "source": [
    "for i in range(len(robot_idents)):\n",
    "    x1 = int(re.findall(r'[-\\d]+', robot_inits[i])[1])\n",
    "    y1 = int(re.findall(r'[-\\d]+', robot_inits[i])[2])\n",
    "    \n",
    "    x2 = int(re.findall(r'[-\\d]+', dest_inits[i])[1])\n",
    "    y2 = int(re.findall(r'[-\\d]+', dest_inits[i])[2])\n",
    "     \n",
    "    manhattan = np.abs(x1-x2) + np.abs(y1-y2)\n",
    "    \n",
    "    priority_scores.append(manhattan)\n",
    "\n",
    "\n",
    "priority_scores, robot_idents, dest_idents, dest_inits = (list(t) for t in zip(*sorted(zip(priority_scores, robot_idents, dest_idents, dest_inits), reverse=True)))\n",
    "\n",
    "\n",
    "print(priority_scores)\n",
    "print(robot_idents)\n",
    "'''\n",
    "print(dest_idents)\n",
    "print(dest_inits)\n",
    "'''"
   ]
  },
  {
   "cell_type": "markdown",
   "metadata": {},
   "source": []
  },
  {
   "cell_type": "code",
   "execution_count": 152,
   "metadata": {},
   "outputs": [],
   "source": [
    "def solve_for_robot_i(i):\n",
    "    \n",
    "    #begin# extending temp_instance.lp by destination declaration for robot i ########        \n",
    "                                                                                    ##\n",
    "    index = robot_idents.index(i)                                                   ##\n",
    "    temp_instance = open(\"temp_instance.lp\", \"a\")                                   ##\n",
    "    temp_instance.write(dest_inits[index])  # write destination initialization      ##\n",
    "    temp_instance.close()                                                           ##\n",
    "                                                                                    ##\n",
    "    ##end## extending temp_instance.lp by destination declaration for robot i ########           \n",
    "    \n",
    "    ####### solve for robot i and its respective destination. Save the output in temp_plan.lp   \n",
    "    subprocess.run(\"clingo ./testsolver.lp temp_instance.lp > temp_plan.lp --outf=1 --out-atomf='%s.' --out-ifs='\\n' --time-limit=10\", shell=True)    \n",
    "    \n",
    "    temp_instance = open(\"temp_instance.lp\", \"r\")       # alter this instance to contain a converted plan for further solving\n",
    "    lines = temp_instance.readlines()\n",
    "    temp_instance.close()\n",
    "    \n",
    "    temp_instance = open(\"temp_instance.lp\", \"w\")\n",
    "    for line in lines:\n",
    "        if line.strip(\"\\n\") != dest_inits[index][:-1]:\n",
    "            temp_instance.write(line)\n",
    "    \n",
    "    #begin# extending temp_instance.lp by the plan for robot i\n",
    "    \n",
    "    # occurs(object(robot,1),action(move,(0,-1)),2)\n",
    "    # position(     robot(R),            (X, Y) ,T)\n",
    "    \n",
    "    plan_instance = open(\"temp_plan.lp\", \"r+\")          # read from plan-instance\n",
    "    \n",
    "    for line in plan_instance.readlines():\n",
    "        for match in re.finditer(find_plans, line):\n",
    "            temp_instance.write(line)        \n",
    "            \n",
    "    plan_instance.close()        \n",
    "    temp_instance.close()"
   ]
  },
  {
   "cell_type": "markdown",
   "metadata": {},
   "source": [
    "**This is the heart-piece of the script.**\n",
    "\n",
    "This section is divided into three parts that allow for an iterative solving process.\n",
    "### Part I\n",
    "simply extends the current iteration of the instance by the robot and destination locations and identifiers that have been extracted previously.\n",
    "\n",
    "### Part II\n",
    "is the execution of the embedded solver. Note that this solver only solves for one robot at the time! Therefore this solver could be replaced by any optimal single agent solver. The plan is saved in a file ```temp_plan.lp```\n",
    "\n",
    "### Part III\n",
    "extends the temporary instance by the ```occurs```-statements that are used within the dl-solver."
   ]
  },
  {
   "cell_type": "code",
   "execution_count": 153,
   "metadata": {
    "scrolled": true
   },
   "outputs": [
    {
     "name": "stdout",
     "output_type": "stream",
     "text": [
      "solving for robot 3\n",
      "solving for robot 1\n",
      "solving for robot 2\n"
     ]
    }
   ],
   "source": [
    "for identifier in robot_idents:\n",
    "    solve_for_robot_i(identifier)"
   ]
  },
  {
   "cell_type": "markdown",
   "metadata": {},
   "source": [
    "This iterates through the array of robot identifiers and solves the instance with their respective destination.\n",
    "\n",
    "---"
   ]
  },
  {
   "cell_type": "code",
   "execution_count": 40,
   "metadata": {},
   "outputs": [
    {
     "data": {
      "text/plain": [
       "CompletedProcess(args=['rm', 'temp_plan.lp'], returncode=0)"
      ]
     },
     "execution_count": 40,
     "metadata": {},
     "output_type": "execute_result"
    }
   ],
   "source": [
    "subprocess.run([\"rm\", \"temp_instance.lp\"])\n",
    "subprocess.run([\"cp\", \"temp_plan.lp\", dest])\n",
    "subprocess.run([\"rm\", \"temp_plan.lp\"])"
   ]
  },
  {
   "cell_type": "markdown",
   "metadata": {},
   "source": [
    "This deletes the files that are no longer needed. ```target_plan.lp``` can later be replaced by a given argument when calling the script.\n",
    "\n",
    "---"
   ]
  },
  {
   "cell_type": "code",
   "execution_count": null,
   "metadata": {},
   "outputs": [],
   "source": [
    "print(\"--- %s seconds ---\" % (time.time() - start_time))"
   ]
  }
 ],
 "metadata": {
  "kernelspec": {
   "display_name": "Python 3",
   "language": "python",
   "name": "python3"
  },
  "language_info": {
   "codemirror_mode": {
    "name": "ipython",
    "version": 3
   },
   "file_extension": ".py",
   "mimetype": "text/x-python",
   "name": "python",
   "nbconvert_exporter": "python",
   "pygments_lexer": "ipython3",
   "version": "3.8.3"
  }
 },
 "nbformat": 4,
 "nbformat_minor": 4
}
