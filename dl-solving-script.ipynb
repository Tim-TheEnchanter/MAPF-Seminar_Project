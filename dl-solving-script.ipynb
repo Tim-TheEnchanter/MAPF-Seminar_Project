{
 "cells": [
  {
   "cell_type": "markdown",
   "metadata": {},
   "source": [
    "## Script for prioritized MAPF\n",
    "\n",
    "---\n"
   ]
  },
  {
   "cell_type": "code",
   "execution_count": 1,
   "metadata": {},
   "outputs": [],
   "source": [
    "import subprocess\n",
    "import sys\n",
    "import re"
   ]
  },
  {
   "cell_type": "markdown",
   "metadata": {},
   "source": [
    "These are the modules that are needed in order to succesfully execute the code below. **```subprocess```** is used in order to make the systemcalls that execute the solver and other management calls like *rm* and *cp*. **```re```** is a very important module that lets us search through the ```.lp```-files to determine robots and destination with the use of regular expressions (regex). Additionally it lets us ultimately convert the output plan into adequate input for further solving steps.\n",
    "\n",
    "---"
   ]
  },
  {
   "cell_type": "code",
   "execution_count": 2,
   "metadata": {
    "scrolled": false
   },
   "outputs": [
    {
     "ename": "SystemExit",
     "evalue": "No target instance defined!",
     "output_type": "error",
     "traceback": [
      "An exception has occurred, use %tb to see the full traceback.\n",
      "\u001b[0;31mSystemExit\u001b[0m\u001b[0;31m:\u001b[0m No target instance defined!\n"
     ]
    },
    {
     "name": "stderr",
     "output_type": "stream",
     "text": [
      "/home/tim/anaconda3/lib/python3.8/site-packages/IPython/core/interactiveshell.py:3351: UserWarning: To exit: use 'exit', 'quit', or Ctrl-D.\n",
      "  warn(\"To exit: use 'exit', 'quit', or Ctrl-D.\", stacklevel=1)\n"
     ]
    }
   ],
   "source": [
    "target = sys.argv[1]\n",
    "if target == \"-f\":\n",
    "    sys.exit('No target instance defined!')\n",
    "print(target)\n",
    "\n",
    "subprocess.run([\"conda\", \"activate\", \"asprin\"])"
   ]
  },
  {
   "cell_type": "markdown",
   "metadata": {},
   "source": [
    "When calling the python-script the given argument will be the instance we want to be solved. It throws an exception if no target has been given.\n",
    "\n",
    "---"
   ]
  },
  {
   "cell_type": "code",
   "execution_count": 3,
   "metadata": {},
   "outputs": [],
   "source": [
    "non_base_lines   = re.compile(\"init\\(object\\(destination.*$\" )\n",
    "where_robots     = re.compile(\"init\\(object\\(robot,[0-9]\\), value\\(at,\")\n",
    "where_dests      = re.compile(\"init\\(object\\(destination,[0-9]\\), value\\(at,\")\n",
    "find_plans       = re.compile(\"occurs\\(object\\(robot,\")"
   ]
  },
  {
   "cell_type": "markdown",
   "metadata": {},
   "source": [
    "Here are the regex that are used further down to:\n",
    "* eliminate lines in the instance that are not required to model the environment. (i.e. robots, destinations, etc.)\n",
    "* find the robots initialization points (and identifiers).\n",
    "* find the destinations initialization points (and identifiers).\n",
    "* convert the plan format into an acceptable input format.\n",
    "---"
   ]
  },
  {
   "cell_type": "code",
   "execution_count": 4,
   "metadata": {},
   "outputs": [],
   "source": [
    "robot_idents     = []       # will save the identifiers for the robots\n",
    "dest_idents      = []       # will save the identifiers for the destinations\n",
    "dest_inits       = []       # will save the identifiers for the destinations"
   ]
  },
  {
   "cell_type": "markdown",
   "metadata": {},
   "source": [
    "Theese arrays will hold the lines that save the robots identifiers, ... (duh!). These are the ones that determine the order/priority with which the instance is solved.\n",
    "\n",
    "---"
   ]
  },
  {
   "cell_type": "code",
   "execution_count": 5,
   "metadata": {},
   "outputs": [],
   "source": [
    "target_instance  = open(\"firsttestinstancemd.lp\")       # this will be target | target_instance  = open(target) should work                       \n",
    "temp_instance    = open(\"temp_instance.lp\", \"w+\")       # a new file \"temp_instance.lp\" will be created"
   ]
  },
  {
   "cell_type": "markdown",
   "metadata": {},
   "source": [
    "The ```temp_instance``` will iterate through the number of robots (and destinations) and will gather the respective plans as new inputs. Before the iteration of solving, this instance will represent a base instance that only describes the environment.\n",
    "\n",
    "---"
   ]
  },
  {
   "cell_type": "code",
   "execution_count": 6,
   "metadata": {},
   "outputs": [
    {
     "name": "stdout",
     "output_type": "stream",
     "text": [
      "['1', '2', '3']\n",
      "['1', '2', '3']\n",
      "['init(object(destination,1), value(at,(1,1))).\\n', 'init(object(destination,2), value(at,(1,2))).\\n', 'init(object(destination,3), value(at,(1,7))).\\n']\n"
     ]
    }
   ],
   "source": [
    "for line in target_instance.readlines():\n",
    "    \n",
    "    #begin# find robot identifiers and initial starting points #######\n",
    "                                                                    ##\n",
    "    for match in re.finditer(where_robots, line):                   ##\n",
    "        robot_idents.append(line[18:-21])                           ##\n",
    "                                                                    ##\n",
    "    ##end## find robot identifiers and initial starting points #######\n",
    "    \n",
    "    #begin# find destination identifiers and initial position #######\n",
    "                                                                   ##\n",
    "    for match in re.finditer(where_dests, line):                   ##\n",
    "        dest_inits.append(line)                                    ##\n",
    "        dest_idents.append(line[24:-21])                           ##\n",
    "                                                                   ##    \n",
    "    ##end## find destination identifiers and initial position #######\n",
    "    \n",
    "    #begin# build base instance (without robot or destination declarations) #######\n",
    "                                                                                 ##    \n",
    "    line = re.sub(non_base_lines, \"\", line)                                      ##\n",
    "    temp_instance.write(line)                                                    ##\n",
    "                                                                                 ##\n",
    "    ##end## build base instance (without robot or destination declarations) #######\n",
    "\n",
    "target_instance.close()\n",
    "temp_instance.close()\n",
    "\n",
    "print(robot_idents)\n",
    "print(dest_idents)\n",
    "print(dest_inits)"
   ]
  },
  {
   "cell_type": "markdown",
   "metadata": {},
   "source": [
    "This section uses some regex described above to find the robots and destinations identifiers and initial positions. In the end we delete all non-essential lines for describing the environment.\n",
    "\n",
    "---"
   ]
  },
  {
   "cell_type": "code",
   "execution_count": 9,
   "metadata": {},
   "outputs": [],
   "source": [
    "def solve_for_robot_i(i):\n",
    "    \n",
    "    #begin# extending temp_instance.lp by destination declaration for robot i ########        \n",
    "                                                                                    ##\n",
    "    index = robot_idents.index(i)                                                   ##\n",
    "    temp_instance = open(\"temp_instance.lp\", \"a\")                                   ##\n",
    "    temp_instance.write(dest_inits[index])  # write destination initialization      ##\n",
    "    temp_instance.close()                                                           ##\n",
    "                                                                                    ##\n",
    "    ##end## extending temp_instance.lp by destination declaration for robot i ########           \n",
    "    print(\"extended by destination\", i)\n",
    "    \n",
    "    ####### solve for robot i and its respective destination. Save the output in temp_plan.lp   \n",
    "    subprocess.run(\"clingo ./testsolver.lp temp_instance.lp > temp_plan.lp --outf=1 --out-atomf='%s.' --out-ifs='\\n' --time-limit=10\", shell=True)    \n",
    "    \n",
    "    print(\"solved for destination\", i)\n",
    "\n",
    "    temp_instance = open(\"temp_instance.lp\", \"r\")       # alter this instance to contain a converted plan for further solving\n",
    "    lines = temp_instance.readlines()\n",
    "    temp_instance.close()\n",
    "    \n",
    "    temp_instance = open(\"temp_instance.lp\", \"w\")\n",
    "    for line in lines:\n",
    "        if line.strip(\"\\n\") != dest_inits[index][:-1]:\n",
    "            temp_instance.write(line)\n",
    "    \n",
    "    #begin# extending temp_instance.lp by the plan for robot i\n",
    "    \n",
    "    # occurs(object(robot,1),action(move,(0,-1)),2)\n",
    "    # position(     robot(R),            (X, Y) ,T)\n",
    "    \n",
    "    plan_instance = open(\"temp_plan.lp\", \"r+\")          # read from plan-instance\n",
    "    \n",
    "    for line in plan_instance.readlines():\n",
    "        for match in re.finditer(find_plans, line):\n",
    "            print(\"occurs found\")\n",
    "            temp_instance.write(line)\n",
    "    \n",
    "    ### WRITE CODE THAT CLEANS UP temp_plan.lp TO ONLY CONTAIN occurs-STATEMENTS (they all end with \").\" )\n",
    "    \n",
    "        \n",
    "    print(\"extended for plan to destination\", i)\n",
    "            \n",
    "    plan_instance.close()        \n",
    "    temp_instance.close()"
   ]
  },
  {
   "cell_type": "markdown",
   "metadata": {},
   "source": [
    "**This is the heart-piece of the script.**\n",
    "\n",
    "This section is divided into three parts that allow for an iterative solving process.\n",
    "### Part I\n",
    "simply extends the current iteration of the instance by the robot and destination locations and identifiers that have been extracted previously.\n",
    "\n",
    "### Part II\n",
    "is the execution of the embedded solver. Note that this solver only solves for one robot at the time! Therefore this solver could be replaced by any optimal single agent solver. The plan is saved in a file ```temp_plan.lp```\n",
    "\n",
    "### Part III\n",
    "extends the temporary instance by the ```occurs```-statements that are used within the dl-solver."
   ]
  },
  {
   "cell_type": "code",
   "execution_count": 10,
   "metadata": {
    "scrolled": true
   },
   "outputs": [
    {
     "name": "stdout",
     "output_type": "stream",
     "text": [
      "solving for robot 1\n",
      "extended by destination 1\n",
      "solved for destination 1\n",
      "extended for plan to destination 1\n"
     ]
    }
   ],
   "source": [
    "for identifier in robot_idents:\n",
    "    print(\"solving for robot\", identifier)\n",
    "    solve_for_robot_i(identifier)\n",
    "    break"
   ]
  },
  {
   "cell_type": "markdown",
   "metadata": {},
   "source": [
    "This iterates through the array of robot identifiers and solves the instance with their respective destination.\n",
    "\n",
    "---"
   ]
  },
  {
   "cell_type": "code",
   "execution_count": 68,
   "metadata": {},
   "outputs": [
    {
     "data": {
      "text/plain": [
       "CompletedProcess(args=['rm', 'temp_plan.lp'], returncode=0)"
      ]
     },
     "execution_count": 68,
     "metadata": {},
     "output_type": "execute_result"
    }
   ],
   "source": [
    "subprocess.run([\"rm\", \"temp_instance.lp\"])\n",
    "subprocess.run([\"cp\", \"temp_plan.lp\", \"target_plan.lp\"])\n",
    "subprocess.run([\"rm\", \"temp_plan.lp\"])"
   ]
  },
  {
   "cell_type": "markdown",
   "metadata": {},
   "source": [
    "This deletes the files that are no longer needed. ```target_plan.lp``` can later be replaced by a given argument when calling the script.\n",
    "\n",
    "---"
   ]
  },
  {
   "cell_type": "code",
   "execution_count": null,
   "metadata": {},
   "outputs": [],
   "source": []
  }
 ],
 "metadata": {
  "kernelspec": {
   "display_name": "Python 3",
   "language": "python",
   "name": "python3"
  },
  "language_info": {
   "codemirror_mode": {
    "name": "ipython",
    "version": 3
   },
   "file_extension": ".py",
   "mimetype": "text/x-python",
   "name": "python",
   "nbconvert_exporter": "python",
   "pygments_lexer": "ipython3",
   "version": "3.8.3"
  }
 },
 "nbformat": 4,
 "nbformat_minor": 4
}
